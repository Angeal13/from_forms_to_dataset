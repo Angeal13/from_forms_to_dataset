{
  "nbformat": 4,
  "nbformat_minor": 0,
  "metadata": {
    "colab": {
      "name": "FilingSystemAlphav1_0.ipynb",
      "provenance": []
    },
    "kernelspec": {
      "name": "python3",
      "display_name": "Python 3"
    },
    "language_info": {
      "name": "python"
    }
  },
  "cells": [
    {
      "cell_type": "code",
      "execution_count": null,
      "metadata": {
        "id": "pKSJIMa9Wqtn"
      },
      "outputs": [],
      "source": [
        "#intall libraries to convert PDF to JPG\n",
        "!pip install pdf2image\n",
        "from pdf2image import convert_from_path, convert_from_bytes\n",
        "!apt-get install poppler-utils \n",
        "# library for creating data paths\n",
        "import os\n",
        "import shutil #move files\n",
        "# library for performing numerical computations\n",
        "import numpy as np\n",
        "\n",
        "#imageprocessing and classification\n",
        "import tensorflow as tf \n",
        "from tensorflow import keras\n",
        "\n",
        "# importing all the required sub-modules from keras\n",
        "from tensorflow.keras.optimizers import Adam  #can use adam_v2 too, from keras.optimizer import adam_v2\n",
        "from keras.models import Sequential, Model    #Model for Transfer learning\n",
        "from keras.applications.vgg16 import VGG16    # Transfer learning here too (AGV comments), \n",
        "from keras.preprocessing.image import img_to_array, load_img  # to load images into arrays\n",
        "from keras.layers import Conv2D, MaxPooling2D, Flatten, Dense\n",
        "\n",
        "from keras.preprocessing.image import ImageDataGenerator\n",
        "#where the complete pdf scans are\n",
        "parent_dir = '/content/drive/MyDrive/ML Training/ScannedDocProject/pdfByName/'\n",
        "# folders to file by form page\n",
        "filing_dir=os.path.join(parent_dir,'Filed')\n",
        "Form_A_dir = os.path.join(filing_dir, 'FormA')\n",
        "Form_B_dir = os.path.join(filing_dir, 'FormB')\n",
        "Form_C_dir = os.path.join(filing_dir, 'FormC')\n",
        "Form_D_dir = os.path.join(filing_dir, 'FormD')\n",
        "Form_E_dir = os.path.join(filing_dir, 'FormE')\n",
        "pdf_dir=os.path.join(parent_dir,'Docs')\n",
        "jpg_dir=os.path.join(parent_dir,'jpegpages')\n",
        "doc_file_names = os.listdir(pdf_dir)\n",
        "doc_file_paths = [os.path.join(pdf_dir, file_name) for file_name in doc_file_names[:len(doc_file_names)]]\n",
        "jpg_file_names = os.listdir(jpg_dir)\n",
        "jpg_file_paths = [os.path.join(jpg_dir, file_name) for file_name in jpg_file_names[:len(jpg_file_names)]] \n",
        "os.chdir('/content/drive/MyDrive/ML Training/ScannedDocProject/pdfByName/jpegpages') \n",
        "\n",
        "#convert pdfs\n",
        "images=[]\n",
        "for i, img_path in enumerate(doc_file_paths):\n",
        "    images.append(convert_from_path(img_path))\n",
        "for i in range(len(images)):\n",
        "  # Save pages as images in the pdf\n",
        "  img=images[i]\n",
        "  for j in range(len(img)):\n",
        "      img[j].save(str(doc_file_names[i]).replace(\".pdf\", \"\")+'page'+str(j) +'.jpg', 'JPEG')\n",
        "#load model\n",
        "model = VGG16(include_top=True, weights='imagenet')   \n",
        "transfer_layer = model.get_layer('block5_pool')\n",
        "vgg_model = Model(inputs=model.input, outputs=transfer_layer.output)\n",
        "for layer in vgg_model.layers[0:17]:  #We are saying from layer 0 to 17 \n",
        "    layer.trainable = False\n",
        "new_model = Sequential() \n",
        "new_model.add(vgg_model)\n",
        "new_model.add(Flatten())\n",
        "new_model.add(Dense(5, activation='softmax'))\n",
        "optimizer = Adam(learning_rate=1e-4)\n",
        "loss = 'categorical_crossentropy'\n",
        "metrics = ['accuracy']\n",
        "new_model.compile(optimizer=optimizer, loss=loss, metrics=metrics)\n",
        "new_model.load_weights('/content/drive/MyDrive/ML Training/ScannedDocProject/VGG16_2.h5') #please check for lastest model\n",
        "\n",
        "\n",
        "for i, img_path in enumerate(jpg_file_paths):\n",
        "  image = tf.keras.preprocessing.image.load_img(img_path, target_size=(224, 224))\n",
        "  array = tf.keras.preprocessing.image.img_to_array(image)\n",
        "  array=np.expand_dims(array, axis=0)\n",
        "  pred=new_model.predict(array).argmax()\n",
        "  if pred==0:\n",
        "    shutil.move(img_path, Form_A_dir)\n",
        "  if pred==1:\n",
        "    shutil.move(img_path, Form_B_dir)\n",
        "  if pred==2:\n",
        "    shutil.move(img_path, Form_C_dir)\n",
        "  if pred==3:\n",
        "    shutil.move(img_path, Form_D_dir)\n",
        "  if pred==4:\n",
        "    shutil.move(img_path, Form_E_dir)\n",
        "print(len(os.listdir(Form_A_dir)))\n",
        "print(len(os.listdir(Form_B_dir)))\n",
        "print(len(os.listdir(Form_C_dir)))\n",
        "print(len(os.listdir(Form_D_dir)))\n",
        "print(len(os.listdir(Form_E_dir)))\n"
      ]
    },
    {
      "cell_type": "code",
      "source": [
        "def empty_folder(folder_dir):\n",
        "  for f in os.listdir(folder_dir):\n",
        "    os.remove(os.path.join(folder_dir, f))\n",
        "    #this function will empty out the files in a directory\n",
        "    #run this for each filed folder if you need to clear out the form filed folders "
      ],
      "metadata": {
        "id": "54Z2raAQW8mM"
      },
      "execution_count": null,
      "outputs": []
    }
  ]
}